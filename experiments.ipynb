{
 "cells": [
  {
   "cell_type": "code",
   "execution_count": 1,
   "metadata": {},
   "outputs": [],
   "source": [
    "from exact_duplicate_detection_functions import HashPages, threshold_by_number_of_matched_pages, threshold_by_percent\n",
    "from PyPDF2 import PdfReader\n",
    "import matplotlib.pyplot as plt\n",
    "from pathlib import Path"
   ]
  },
  {
   "cell_type": "code",
   "execution_count": 2,
   "metadata": {},
   "outputs": [],
   "source": [
    "def plot_page_count_histogram(page_counts):\n",
    "    plt.hist(page_counts)\n",
    "    plt.xlabel(\"Page count\")\n",
    "    plt.ylabel(\"Frequency\")\n",
    "    plt.show()"
   ]
  },
  {
   "cell_type": "code",
   "execution_count": 3,
   "metadata": {},
   "outputs": [
    {
     "data": {
      "image/png": "[encoded data removed]",
      "text/plain": [
       "<Figure size 432x288 with 1 Axes>"
      ]
     },
     "metadata": {
      "needs_background": "light"
     },
     "output_type": "display_data"
    }
   ],
   "source": [
    "plot_page_count_histogram([5, 5, 6, 2, 7, 2, 6, 8, 1, 2, 3, 2, 3, 5, 6, 9])"
   ]
  },
  {
   "cell_type": "code",
   "execution_count": 4,
   "metadata": {},
   "outputs": [],
   "source": [
    "def get_page_counts(folder_path, recursive=False):\n",
    "    \"\"\"Get the number of pages in each PDF file in FOLDER_PATH. Returns a dictionary with file paths (relative to the passed path)\n",
    "    as keys and page counts as values. Encrypted files which cannot be accessed have page counts of -1.\n",
    "    \n",
    "    If RECURSIVE is True, then the function will also search subfolders of FOLDER_PATH. Otherwise, only the files in FOLDER_PATH\n",
    "    will be searched.\"\"\"\n",
    "    page_counts = {}\n",
    "    for path in Path(folder_path).rglob(\"*.pdf\") if recursive else Path(folder_path).glob(\"*.pdf\"):\n",
    "        if path.is_file():\n",
    "            with open(path, 'rb') as f:\n",
    "                pdf = PdfReader(f)\n",
    "                if pdf.isEncrypted:\n",
    "                    page_counts[str(path)] = -1\n",
    "                else:\n",
    "                    page_counts[str(path)] = pdf.getNumPages()\n",
    "    return page_counts"
   ]
  },
  {
   "cell_type": "code",
   "execution_count": 8,
   "metadata": {},
   "outputs": [
    {
     "name": "stderr",
     "output_type": "stream",
     "text": [
      "incorrect startxref pointer(1)\n"
     ]
    }
   ],
   "source": [
    "page_counts = get_page_counts(\"/Users/kabir\", recursive=True)"
   ]
  },
  {
   "cell_type": "code",
   "execution_count": 9,
   "metadata": {},
   "outputs": [
    {
     "data": {
      "image/png": "[encoded data removed]",
      "text/plain": [
       "<Figure size 432x288 with 1 Axes>"
      ]
     },
     "metadata": {
      "needs_background": "light"
     },
     "output_type": "display_data"
    }
   ],
   "source": [
    "plot_page_count_histogram(page_counts.values())"
   ]
  },
  {
   "cell_type": "code",
   "execution_count": null,
   "metadata": {},
   "outputs": [],
   "source": []
  }
 ],
 "metadata": {
  "kernelspec": {
   "display_name": "Python 3",
   "language": "python",
   "name": "python3"
  },
  "language_info": {
   "codemirror_mode": {
    "name": "ipython",
    "version": 3
   },
   "file_extension": ".py",
   "mimetype": "text/x-python",
   "name": "python",
   "nbconvert_exporter": "python",
   "pygments_lexer": "ipython3",
   "version": "3.10.2 (main, Feb 23 2022, 22:25:44) [Clang 13.0.0 (clang-1300.0.29.30)]"
  },
  "orig_nbformat": 4,
  "vscode": {
   "interpreter": {
    "hash": "7f4e1c19d27787d080df5a7de24cd8c0d81f307b92cbac43c952989965ad1173"
   }
  }
 },
 "nbformat": 4,
 "nbformat_minor": 2
}
