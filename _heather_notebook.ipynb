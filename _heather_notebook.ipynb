{
 "cells": [
  {
   "cell_type": "code",
   "execution_count": 1,
   "metadata": {},
   "outputs": [
    {
     "name": "stdout",
     "output_type": "stream",
     "text": [
      "/Users/heatherwei/Downloads/test_files2/images/__X.pdf already exists\n",
      "/Users/heatherwei/Downloads/test_files2/images/__Z.pdf already exists\n",
      "/Users/heatherwei/Downloads/test_files2/images/FOLDER 5__V.pdf already exists\n",
      "/Users/heatherwei/Downloads/test_files2/images/FOLDER 6__Y.pdf already exists\n",
      "/Users/heatherwei/Downloads/test_files2/images/FOLDER 6__FOLDER 7__W.pdf already exists\n",
      "Now saving to hash_df.csv 2\n",
      "Now saving to collected_hash.csv 3\n"
     ]
    }
   ],
   "source": [
    "from exact_duplicate_detection_functions import *\n",
    "HashPages('/Users/heatherwei/Downloads/test_files2')\n",
    "create_csv('/Users/heatherwei/Downloads/test_files2')\n",
    "collected_hash = read_from_collected_hash('/Users/heatherwei/Downloads/test_files2/csv/test_files2__collected_hash.csv', columns=['number_of_duplicates'])\n",
    "file_hash = read_from_file_replica('/Users/heatherwei/Downloads/test_files2/csv/test_files2__file_replica.csv', columns=['numberOfPagesInFile'])"
   ]
  },
  {
   "cell_type": "code",
   "execution_count": 2,
   "metadata": {},
   "outputs": [
    {
     "name": "stdout",
     "output_type": "stream",
     "text": [
      "/Users/heatherwei/Downloads/test_files2/images/__X.pdf already exists\n",
      "/Users/heatherwei/Downloads/test_files2/images/__Z.pdf already exists\n",
      "/Users/heatherwei/Downloads/test_files2/images/FOLDER 5__V.pdf already exists\n",
      "/Users/heatherwei/Downloads/test_files2/images/FOLDER 6__Y.pdf already exists\n",
      "/Users/heatherwei/Downloads/test_files2/images/FOLDER 6__FOLDER 7__W.pdf already exists\n",
      "Now saving to hash_df.csv 2\n",
      "Now saving to collected_hash.csv 3\n"
     ]
    },
    {
     "data": {
      "text/html": [
       "<div>\n",
       "<style scoped>\n",
       "    .dataframe tbody tr th:only-of-type {\n",
       "        vertical-align: middle;\n",
       "    }\n",
       "\n",
       "    .dataframe tbody tr th {\n",
       "        vertical-align: top;\n",
       "    }\n",
       "\n",
       "    .dataframe thead th {\n",
       "        text-align: right;\n",
       "    }\n",
       "</style>\n",
       "<table border=\"1\" class=\"dataframe\">\n",
       "  <thead>\n",
       "    <tr style=\"text-align: right;\">\n",
       "      <th></th>\n",
       "      <th>file_name</th>\n",
       "      <th>files_with_duplicate_page</th>\n",
       "      <th>percentage_match</th>\n",
       "      <th>matched_page_num</th>\n",
       "      <th>numberOfPagesInFile</th>\n",
       "    </tr>\n",
       "  </thead>\n",
       "  <tbody>\n",
       "    <tr>\n",
       "      <th>0</th>\n",
       "      <td>__X.pdf</td>\n",
       "      <td>{'__Z.pdf': 1}</td>\n",
       "      <td>{'__Z.pdf': {'ratio': 1.0, 'totalpages': 1, 'm...</td>\n",
       "      <td>{'__Z.pdf': ['1']}</td>\n",
       "      <td>1</td>\n",
       "    </tr>\n",
       "    <tr>\n",
       "      <th>1</th>\n",
       "      <td>__Z.pdf</td>\n",
       "      <td>{'__X.pdf': 1}</td>\n",
       "      <td>{'__X.pdf': {'ratio': 1.0, 'totalpages': 1, 'm...</td>\n",
       "      <td>{'__X.pdf': ['1']}</td>\n",
       "      <td>1</td>\n",
       "    </tr>\n",
       "  </tbody>\n",
       "</table>\n",
       "</div>"
      ],
      "text/plain": [
       "  file_name files_with_duplicate_page  \\\n",
       "0   __X.pdf            {'__Z.pdf': 1}   \n",
       "1   __Z.pdf            {'__X.pdf': 1}   \n",
       "\n",
       "                                    percentage_match    matched_page_num  \\\n",
       "0  {'__Z.pdf': {'ratio': 1.0, 'totalpages': 1, 'm...  {'__Z.pdf': ['1']}   \n",
       "1  {'__X.pdf': {'ratio': 1.0, 'totalpages': 1, 'm...  {'__X.pdf': ['1']}   \n",
       "\n",
       "   numberOfPagesInFile  \n",
       "0                    1  \n",
       "1                    1  "
      ]
     },
     "execution_count": 2,
     "metadata": {},
     "output_type": "execute_result"
    }
   ],
   "source": [
    "from exact_duplicate_detection_functions import *\n",
    "file_level_df, reduced_df = HashPages('/Users/heatherwei/Downloads/test_files2')\n",
    "file_level_df.head(10)\n"
   ]
  },
  {
   "cell_type": "code",
   "execution_count": 3,
   "metadata": {},
   "outputs": [],
   "source": [
    "condition_1 = threshold_by_number_of_matched_pages(file_level_df, max_page_in_file = 3, min_page_in_file=1)"
   ]
  },
  {
   "cell_type": "code",
   "execution_count": 4,
   "metadata": {},
   "outputs": [],
   "source": [
    "condition_2 = threshold_by_percent(file_level_df, max_page_in_file = 4, max_percentage_value=50 )"
   ]
  },
  {
   "cell_type": "code",
   "execution_count": 5,
   "metadata": {},
   "outputs": [
    {
     "name": "stdout",
     "output_type": "stream",
     "text": [
      "*********************************************Bin 0********************************************\n",
      "\n",
      "\t\t\t\t\t\tFiles with Number of Matched Pages between  1-21\n",
      "\n",
      "\t\t\t\t\t\tNumber of Pages in files between 1-3\n",
      "\n",
      "\n",
      "\n",
      "*********************************************Bin 1********************************************\n",
      "\n",
      "\t\t\t\t\t\tFiles with Percentage Match between  0.0-50.0\n",
      "\n",
      "\t\t\t\t\t\tNumber of Pages in files between 1-4\n",
      "\n",
      "\n",
      "\n"
     ]
    }
   ],
   "source": [
    "print_duplicate_info([condition_1, condition_2])"
   ]
  },
  {
   "cell_type": "code",
   "execution_count": 6,
   "metadata": {},
   "outputs": [
    {
     "name": "stdout",
     "output_type": "stream",
     "text": [
      "The file path you provided does not have any PDF pages in it. Please check the path and try again.\n"
     ]
    }
   ],
   "source": [
    "sample_5, sample_1 = visualize_file_pairs(path_1 = '/Users/heatherwei/ownloads/test_files', path_2 = '/Users/heatherwei/Dwnloads/test_files')"
   ]
  },
  {
   "cell_type": "code",
   "execution_count": 7,
   "metadata": {},
   "outputs": [
    {
     "data": {
      "text/plain": [
       "[]"
      ]
     },
     "execution_count": 7,
     "metadata": {},
     "output_type": "execute_result"
    }
   ],
   "source": [
    "sample_5"
   ]
  }
 ],
 "metadata": {
  "kernelspec": {
   "display_name": "Python 3.9.12 ('base')",
   "language": "python",
   "name": "python3"
  },
  "language_info": {
   "codemirror_mode": {
    "name": "ipython",
    "version": 3
   },
   "file_extension": ".py",
   "mimetype": "text/x-python",
   "name": "python",
   "nbconvert_exporter": "python",
   "pygments_lexer": "ipython3",
   "version": "3.8.13"
  },
  "orig_nbformat": 4,
  "vscode": {
   "interpreter": {
    "hash": "40d3a090f54c6569ab1632332b64b2c03c39dcf918b08424e98f38b5ae0af88f"
   }
  }
 },
 "nbformat": 4,
 "nbformat_minor": 2
}
