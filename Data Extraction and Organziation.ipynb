{
 "cells": [
  {
   "cell_type": "markdown",
   "metadata": {},
   "source": [
    "# Data Extraction"
   ]
  },
  {
   "cell_type": "markdown",
   "metadata": {},
   "source": [
    "## Step 1: Extracting Text"
   ]
  },
  {
   "cell_type": "code",
   "execution_count": null,
   "metadata": {},
   "outputs": [],
   "source": [
    "# we will frist read the csv from file and start extracting text from the pages'\n",
    "\n",
    "from text_functions import get_text, clean_text, read_from_csv\n",
    "pages_records=read_from_csv('./page_labeled.csv')\n",
    "pages_records"
   ]
  },
  {
   "cell_type": "markdown",
   "metadata": {},
   "source": []
  },
  {
   "cell_type": "code",
   "execution_count": null,
   "metadata": {},
   "outputs": [],
   "source": [
    "pages_records['Text']=get_text(pages_records['representative_page'])\n",
    "pages_records['Text']=pages_records['Text'].apply(lambda x: clean_text(x))"
   ]
  },
  {
   "cell_type": "code",
   "execution_count": null,
   "metadata": {},
   "outputs": [],
   "source": [
    "pages_records"
   ]
  },
  {
   "cell_type": "markdown",
   "metadata": {},
   "source": [
    "## Step 2: Extract Case Numbers"
   ]
  },
  {
   "cell_type": "code",
   "execution_count": null,
   "metadata": {},
   "outputs": [],
   "source": [
    "from model_functions import prepare_data_for_model\n",
    "collected_hash=read_from_csv(\"collected_hash.csv\")\n",
    "_, encoded_data = prepare_data_for_model(collected_hash)"
   ]
  },
  {
   "cell_type": "code",
   "execution_count": null,
   "metadata": {},
   "outputs": [],
   "source": [
    "# here you provide a bounding box for the code to search on a each of the pages. \n",
    "from data_extraction_functions import extract_with_bbox\n",
    "possible_case_numbers= extract_with_bbox([0,0,1000,400], encoded_data, pages_records)"
   ]
  },
  {
   "cell_type": "code",
   "execution_count": null,
   "metadata": {},
   "outputs": [],
   "source": [
    "possible_case_numbers"
   ]
  },
  {
   "cell_type": "markdown",
   "metadata": {},
   "source": [
    "## Step 3: Extracting Date, Location, and Names"
   ]
  },
  {
   "cell_type": "code",
   "execution_count": null,
   "metadata": {},
   "outputs": [],
   "source": [
    "from data_extraction_functions import get_named_entity\n",
    "dates= get_named_entity(pages_records, 'DATE')\n",
    "organizations= get_named_entity(pages_records, 'ORG')\n",
    "names= get_named_entity(pages_records, 'PERSON')"
   ]
  },
  {
   "cell_type": "code",
   "execution_count": null,
   "metadata": {},
   "outputs": [],
   "source": [
    "names"
   ]
  },
  {
   "cell_type": "markdown",
   "metadata": {},
   "source": [
    "# Data Organization"
   ]
  },
  {
   "cell_type": "markdown",
   "metadata": {},
   "source": [
    "## Step 1: Setting extracted entities"
   ]
  },
  {
   "cell_type": "code",
   "execution_count": null,
   "metadata": {},
   "outputs": [],
   "source": [
    "from file_organization_functions import set_entity_whole, set_entity_breakdown\n",
    "\n",
    "pages_records=set_entity_whole(pages_records, 'Date', dates)\n",
    "pages_records=set_entity_whole(pages_records, 'Name', names)\n",
    "# pages_records=set_entity_whole(pages_records, 'Organizations', organizations)\n",
    "pages_records=set_entity_whole(pages_records, 'CaseNumber', possible_case_numbers)\n",
    "pages_records"
   ]
  },
  {
   "cell_type": "code",
   "execution_count": null,
   "metadata": {},
   "outputs": [],
   "source": [
    "# after page level data is collected, set the proper data points that were extracted to each of the documents. \n",
    "from file_organization_functions import set_doc_data\n",
    "\n",
    "doc_df= set_doc_data(pages_records)\n",
    "doc_df.to_csv(open(\"./doc_data.csv\", \"w\"))"
   ]
  },
  {
   "cell_type": "code",
   "execution_count": null,
   "metadata": {},
   "outputs": [],
   "source": [
    "doc_df"
   ]
  },
  {
   "cell_type": "markdown",
   "metadata": {},
   "source": [
    "## Step 2: highlighting matching names"
   ]
  },
  {
   "cell_type": "code",
   "execution_count": null,
   "metadata": {},
   "outputs": [],
   "source": [
    "# After this stage, how you organize the files and what you chose to highlight will depend on your data and your interest. There are functions in file_class.py that will \n",
    "# allow you to highlight texts that match accross documents and group files based on your parameters."
   ]
  },
  {
   "cell_type": "code",
   "execution_count": null,
   "metadata": {},
   "outputs": [],
   "source": [
    "# you can use this function to get a first set of files that are connected based on case numbers\n",
    "# you can then explore your data and add to your case objects as you find more connected files beyond just case numbers. \n",
    "from file_class import find_related_files, create_case_objects\n",
    "\n",
    "connected_files= find_related_files(doc_df)"
   ]
  },
  {
   "cell_type": "code",
   "execution_count": null,
   "metadata": {},
   "outputs": [],
   "source": [
    "connected_files"
   ]
  }
 ],
 "metadata": {
  "kernelspec": {
   "display_name": "dot-deploy",
   "language": "python",
   "name": "python3"
  },
  "language_info": {
   "codemirror_mode": {
    "name": "ipython",
    "version": 3
   },
   "file_extension": ".py",
   "mimetype": "text/x-python",
   "name": "python",
   "nbconvert_exporter": "python",
   "pygments_lexer": "ipython3",
   "version": "3.10.6"
  },
  "orig_nbformat": 4
 },
 "nbformat": 4,
 "nbformat_minor": 2
}
